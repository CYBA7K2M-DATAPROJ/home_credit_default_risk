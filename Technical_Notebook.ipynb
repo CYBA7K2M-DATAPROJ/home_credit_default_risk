{
 "cells": [
  {
   "cell_type": "code",
   "execution_count": 3,
   "id": "initial_id",
   "metadata": {
    "ExecuteTime": {
     "end_time": "2024-06-19T21:36:19.717059200Z",
     "start_time": "2024-06-19T21:36:19.687834700Z"
    },
    "collapsed": true,
    "jupyter": {
     "outputs_hidden": true
    }
   },
   "outputs": [],
   "source": [
    "import os\n",
    "import zipfile\n",
    "\n",
    "def zip_directory(folder_path, zip_path):\n",
    "    \"\"\"\n",
    "    Zips the specified folder and saves it to the specified zip file path.\n",
    "\n",
    "    Args:\n",
    "        folder_path (str): The path to the folder to be zipped.\n",
    "        zip_path (str): The path where the zip file should be saved.\n",
    "    \"\"\"\n",
    "    # Ensure the folder path exists\n",
    "    if not os.path.isdir(folder_path):\n",
    "        raise ValueError(f\"The folder path {folder_path} does not exist or is not a directory.\")\n",
    "\n",
    "    # Create a ZipFile object\n",
    "    with zipfile.ZipFile(zip_path, 'w', zipfile.ZIP_DEFLATED) as zipf:\n",
    "        # Walk through the directory\n",
    "        for root, dirs, files in os.walk(folder_path):\n",
    "            for file in files:\n",
    "                # Create the full path to the file\n",
    "                full_path = os.path.join(root, file)\n",
    "                # Add file to the zip file\n",
    "                arcname = os.path.relpath(full_path, start=folder_path)\n",
    "                zipf.write(full_path, arcname=arcname)\n"
   ]
  },
  {
   "cell_type": "markdown",
   "id": "cdbea0ab7c5b237d",
   "metadata": {
    "collapsed": false,
    "jupyter": {
     "outputs_hidden": false
    }
   },
   "source": [
    "Compression of resources"
   ]
  },
  {
   "cell_type": "code",
   "execution_count": 4,
   "id": "b95cc61b7ef1fbab",
   "metadata": {
    "ExecuteTime": {
     "end_time": "2024-06-19T21:38:12.922913900Z",
     "start_time": "2024-06-19T21:36:22.850771800Z"
    },
    "collapsed": false,
    "jupyter": {
     "outputs_hidden": false
    }
   },
   "outputs": [],
   "source": [
    "zip_directory('./resources', './resources.zip')"
   ]
  },
  {
   "cell_type": "code",
   "execution_count": 7,
   "id": "660498668ba91f11",
   "metadata": {
    "ExecuteTime": {
     "end_time": "2024-06-19T21:45:16.594967800Z",
     "start_time": "2024-06-19T21:45:16.560643500Z"
    },
    "collapsed": false,
    "jupyter": {
     "outputs_hidden": false
    }
   },
   "outputs": [],
   "source": [
    "zip_directory('./exports', './exports.zip')"
   ]
  },
  {
   "cell_type": "code",
   "execution_count": 6,
   "id": "f01f6838c64975a1",
   "metadata": {
    "ExecuteTime": {
     "end_time": "2024-06-19T21:42:56.083375600Z",
     "start_time": "2024-06-19T21:42:53.035314800Z"
    },
    "collapsed": false,
    "jupyter": {
     "outputs_hidden": false
    }
   },
   "outputs": [
    {
     "name": "stdout",
     "output_type": "stream",
     "text": [
      "Note: you may need to restart the kernel to use updated packages.\n"
     ]
    },
    {
     "name": "stderr",
     "output_type": "stream",
     "text": [
      "ERROR: Could not find a version that satisfies the requirement git (from versions: none)\n",
      "ERROR: No matching distribution found for git\n"
     ]
    }
   ],
   "source": [
    " pip install git"
   ]
  },
  {
   "cell_type": "code",
   "execution_count": 5,
   "id": "f96edf4dcfc3291e",
   "metadata": {
    "ExecuteTime": {
     "end_time": "2024-06-19T21:42:41.674088300Z",
     "start_time": "2024-06-19T21:42:41.621346400Z"
    },
    "collapsed": false,
    "jupyter": {
     "outputs_hidden": false
    }
   },
   "outputs": [
    {
     "ename": "ModuleNotFoundError",
     "evalue": "No module named 'git'",
     "output_type": "error",
     "traceback": [
      "\u001b[1;31m---------------------------------------------------------------------------\u001b[0m",
      "\u001b[1;31mModuleNotFoundError\u001b[0m                       Traceback (most recent call last)",
      "Cell \u001b[1;32mIn[5], line 2\u001b[0m\n\u001b[0;32m      1\u001b[0m \u001b[38;5;28;01mimport\u001b[39;00m \u001b[38;5;21;01mos\u001b[39;00m\n\u001b[1;32m----> 2\u001b[0m \u001b[38;5;28;01mimport\u001b[39;00m \u001b[38;5;21;01mgit\u001b[39;00m\n\u001b[0;32m      4\u001b[0m \u001b[38;5;28;01mdef\u001b[39;00m \u001b[38;5;21mpush_exports_to_github\u001b[39m(repo_path, exports_folder, commit_message, branch\u001b[38;5;241m=\u001b[39m\u001b[38;5;124m'\u001b[39m\u001b[38;5;124mmain\u001b[39m\u001b[38;5;124m'\u001b[39m):\n\u001b[0;32m      5\u001b[0m     \u001b[38;5;124;03m\"\"\"\u001b[39;00m\n\u001b[0;32m      6\u001b[0m \u001b[38;5;124;03m    Pushes the changes in the specified exports folder to GitHub.\u001b[39;00m\n\u001b[0;32m      7\u001b[0m \n\u001b[1;32m   (...)\u001b[0m\n\u001b[0;32m     12\u001b[0m \u001b[38;5;124;03m        branch (str): The branch to push the changes to. Default is 'main'.\u001b[39;00m\n\u001b[0;32m     13\u001b[0m \u001b[38;5;124;03m    \"\"\"\u001b[39;00m\n",
      "\u001b[1;31mModuleNotFoundError\u001b[0m: No module named 'git'"
     ]
    }
   ],
   "source": [
    "import os\n",
    "import git\n",
    "\n",
    "def push_exports_to_github(repo_path, exports_folder, commit_message, branch='main'):\n",
    "    \"\"\"\n",
    "    Pushes the changes in the specified exports folder to GitHub.\n",
    "\n",
    "    Args:\n",
    "        repo_path (str): The path to the local git repository.\n",
    "        exports_folder (str): The path to the exports folder relative to the repository.\n",
    "        commit_message (str): The commit message for the changes.\n",
    "        branch (str): The branch to push the changes to. Default is 'main'.\n",
    "    \"\"\"\n",
    "    # Ensure the repository path exists\n",
    "    if not os.path.isdir(repo_path):\n",
    "        raise ValueError(f\"The repository path {repo_path} does not exist or is not a directory.\")\n",
    "\n",
    "    # Ensure the exports folder path exists\n",
    "    exports_path = os.path.join(repo_path, exports_folder)\n",
    "    if not os.path.isdir(exports_path):\n",
    "        raise ValueError(f\"The exports folder path {exports_path} does not exist or is not a directory.\")\n",
    "\n",
    "    try:\n",
    "        # Initialize the repository\n",
    "        repo = git.Repo(repo_path)\n",
    "\n",
    "        # Stage changes in the exports folder\n",
    "        repo.git.add(exports_path)\n",
    "\n",
    "        # Commit the changes\n",
    "        repo.index.commit(commit_message)\n",
    "\n",
    "        # Push the changes to the specified branch\n",
    "        origin = repo.remote(name='origin')\n",
    "        origin.push(refspec=f'{branch}:{branch}')\n",
    "\n",
    "        print(f\"Changes from '{exports_folder}' pushed to GitHub branch '{branch}' successfully.\")\n",
    "    except Exception as e:\n",
    "        print(f\"An error occurred: {e}\")\n",
    "\n",
    "# Example usage:\n",
    "# Make sure your repo_path points to the local git repository\n",
    "repo_path = '/path/to/your/local/repo'\n",
    "exports_folder = 'exports'  # This should be the relative path from the repo root\n",
    "commit_message = 'Add files from exports directory'\n",
    "push_exports_to_github(repo_path, exports_folder, commit_message)\n"
   ]
  },
  {
   "cell_type": "markdown",
   "id": "876b6728b9bd3413",
   "metadata": {
    "collapsed": false,
    "jupyter": {
     "outputs_hidden": false
    }
   },
   "source": [
    "# Update Github"
   ]
  },
  {
   "cell_type": "code",
   "execution_count": null,
   "id": "1c57ab600557ff6",
   "metadata": {
    "collapsed": false,
    "jupyter": {
     "outputs_hidden": false
    }
   },
   "outputs": [],
   "source": [
    "import os\n",
    "from subprocess import check_call, CalledProcessError\n",
    "\n",
    "COMMIT_MESSAGE = \"Notebooks updates\"\n",
    "\n",
    "def git_add_commit_push():\n",
    "    try:\n",
    "        check_call([\"git\", \"add\", \".\"])\n",
    "        check_call([\"git\", \"commit\", \"-m\", COMMIT_MESSAGE])\n",
    "        check_call([\"git\", \"push\"])\n",
    "    except CalledProcessError as e:\n",
    "        print(f\"Error during git operations: {e}\")\n",
    "\n",
    "def main():\n",
    "    git_add_commit_push()\n",
    "\n",
    "if __name__ == \"__main__\":\n",
    "    main()"
   ]
  }
 ],
 "metadata": {
  "kernelspec": {
   "display_name": "Python 3 (ipykernel)",
   "language": "python",
   "name": "python3"
  },
  "language_info": {
   "codemirror_mode": {
    "name": "ipython",
    "version": 3
   },
   "file_extension": ".py",
   "mimetype": "text/x-python",
   "name": "python",
   "nbconvert_exporter": "python",
   "pygments_lexer": "ipython3",
   "version": "3.8.10"
  }
 },
 "nbformat": 4,
 "nbformat_minor": 5
}
